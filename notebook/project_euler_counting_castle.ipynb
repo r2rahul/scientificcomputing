{
 "cells": [
  {
   "cell_type": "markdown",
   "metadata": {},
   "source": [
    "## Counting Castles\n",
    "#### Problem 502\n",
    "__Problem URL__: [https://projecteuler.net/problem=502](https://projecteuler.net/problem=502)  \n",
    "We define a block to be a rectangle with a height of $1$ and an integer-valued length. Let a castle be a configuration of stacked blocks.\n",
    "\n",
    "Given a game grid that is $w$ units wide and $h$ units tall, a castle is generated according to the following rules:\n",
    "\n",
    "1. Blocks can be placed on top of other blocks as long as nothing sticks out past the edges or hangs out over open space.  \n",
    "2. All blocks are aligned/snapped to the grid.  \n",
    "3. Any two neighboring blocks on the same row have at least one unit of space between them.  \n",
    "4. The bottom row is occupied by a block of length $w$.  \n",
    "5. The maximum achieved height of the entire castle is exactly $h$.  \n",
    "6. The castle is made from an even number of blocks.  \n",
    "\n",
    "The following is a sample castle for $w=8$ and $h=5$:\n",
    "\n",
    "![](https://projecteuler.net/project/images/p502_castles.png)\n",
    "\n",
    "Let $F(w,h)$ represent the number of valid castles, given grid parameters $w$ and $h$.\n",
    "\n",
    "For example, $F(4,2) \\, =\\, 10$, $F(13,10) \\, = \\, 3729050610636$, $F(10,13) = 37959702514$, and $F(100,100)$ mod $1 000 000 007 = 841913936$.\n",
    "\n",
    "Find $(F(10^{12},100) \\, + \\, F(10000,10000) \\, + \\, F(100,10^{12}))\\, mod\\, 1 000 000 007$.\n",
    "\n"
   ]
  },
  {
   "cell_type": "code",
   "execution_count": null,
   "metadata": {},
   "outputs": [],
   "source": []
  }
 ],
 "metadata": {
  "kernelspec": {
   "display_name": "Python 3",
   "language": "python",
   "name": "python3"
  },
  "language_info": {
   "codemirror_mode": {
    "name": "ipython",
    "version": 3
   },
   "file_extension": ".py",
   "mimetype": "text/x-python",
   "name": "python",
   "nbconvert_exporter": "python",
   "pygments_lexer": "ipython3",
   "version": "3.7.2"
  }
 },
 "nbformat": 4,
 "nbformat_minor": 2
}
