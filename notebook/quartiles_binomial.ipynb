{
 "cells": [
  {
   "cell_type": "markdown",
   "metadata": {},
   "source": [
    "## Find quartiles of a list"
   ]
  },
  {
   "cell_type": "code",
   "execution_count": 3,
   "metadata": {},
   "outputs": [
    {
     "name": "stdin",
     "output_type": "stream",
     "text": [
      " 2\n",
      " 1 2\n"
     ]
    },
    {
     "name": "stdout",
     "output_type": "stream",
     "text": [
      "1\n",
      "1\n",
      "2\n"
     ]
    }
   ],
   "source": [
    "# Enter your code here. Read input from STDIN. Print output to STDOUT\n",
    "n = int(input())\n",
    "m = list(map(int, input().split()))\n",
    "m.sort()\n",
    "\n",
    "def even_quartiles(m, n):\n",
    "    i = n // 2\n",
    "    q2 = (m[i] + m[i - 1]) / 2\n",
    "    sh = m[i:]\n",
    "    fh = m[:i]\n",
    "    j = len(fh)\n",
    "    k = j // 2\n",
    "    if j % 2 == 0:\n",
    "        q1 = (fh[k] + fh[k -1]) / 2\n",
    "        q3 = (sh[k] + sh[k -1]) / 2\n",
    "    else:\n",
    "        q1 = fh[k]\n",
    "        q3 = sh[k]\n",
    "    return([q1, q2, q3])\n",
    "\n",
    "def odd_quartiles(m, n):\n",
    "    i = n // 2\n",
    "    q2 = m[i]\n",
    "    del m[i]\n",
    "    fh = m[i:]\n",
    "    sh = m[:i]\n",
    "    j = len(fh)\n",
    "    k = j // 2\n",
    "    if j % 2 == 0:\n",
    "        q1 = (fh[k] + fh[k -1]) / 2\n",
    "        q3 = (sh[k] + sh[k -1]) / 2\n",
    "    else:\n",
    "        q1 = fh[k - 1]\n",
    "        q3 = sh[k - 1]\n",
    "    return([q3, q2, q1])\n",
    "\n",
    "if n % 2 == 0:\n",
    "    out = even_quartiles(m, n)\n",
    "else:\n",
    "    out = odd_quartiles(m, n)\n",
    "\n",
    "for i in out:\n",
    "    print(int(i))"
   ]
  },
  {
   "cell_type": "markdown",
   "metadata": {},
   "source": [
    "## Binomial Distribution\n",
    "Given:\n",
    "1. Log Odds\n",
    "2. Number of trials\n",
    "\n",
    "Find at least 3 success"
   ]
  },
  {
   "cell_type": "code",
   "execution_count": 2,
   "metadata": {},
   "outputs": [
    {
     "name": "stdin",
     "output_type": "stream",
     "text": [
      " 1.09 1\n"
     ]
    },
    {
     "name": "stdout",
     "output_type": "stream",
     "text": [
      "0.696\n"
     ]
    }
   ],
   "source": [
    "from math import factorial\n",
    "from functools import partial\n",
    "\n",
    "n, m = map(float, input().split())\n",
    "\n",
    "def binomial(n, p, x):\n",
    "    term1 = factorial(n) / (factorial(x) * factorial(n - x))\n",
    "    term2 = (p**x) * (1.0 - p)**(n - x)\n",
    "    return(term1*term2)\n",
    "\n",
    "p = n / (n + m)\n",
    "bfunc = partial(binomial, 6, p)\n",
    "prob = 0\n",
    "for j in range(3, 7):\n",
    "    prob += bfunc(j)\n",
    "print(\"%.3f\" %prob)\n"
   ]
  },
  {
   "cell_type": "code",
   "execution_count": null,
   "metadata": {},
   "outputs": [],
   "source": []
  }
 ],
 "metadata": {
  "kernelspec": {
   "display_name": "Python 3",
   "language": "python",
   "name": "python3"
  },
  "language_info": {
   "codemirror_mode": {
    "name": "ipython",
    "version": 3
   },
   "file_extension": ".py",
   "mimetype": "text/x-python",
   "name": "python",
   "nbconvert_exporter": "python",
   "pygments_lexer": "ipython3",
   "version": "3.7.2"
  }
 },
 "nbformat": 4,
 "nbformat_minor": 2
}
