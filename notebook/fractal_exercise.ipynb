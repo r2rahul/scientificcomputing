{
 "cells": [
  {
   "cell_type": "markdown",
   "metadata": {},
   "source": [
    "### Given a string, print all possible palindromic partitions\n",
    "URL : [https://www.geeksforgeeks.org/given-a-string-print-all-possible-palindromic-partition/](https://www.geeksforgeeks.org/given-a-string-print-all-possible-palindromic-partition/)\n",
    "\n"
   ]
  },
  {
   "cell_type": "code",
   "execution_count": 4,
   "metadata": {},
   "outputs": [
    {
     "name": "stdout",
     "output_type": "stream",
     "text": [
      "Longest palindrome substring is:geeksskeeg\n",
      "Length is: 10\n"
     ]
    }
   ],
   "source": [
    "# A O(n^2) time and O(1) space program to find the \n",
    "#longest palindromic substring\n",
    "\n",
    "# This function prints the longest palindrome substring (LPS)\n",
    "# of str[]. It also returns the length of the longest palindrome\n",
    "def longestPalSubstr(string):\n",
    "\tmaxLength = 1\n",
    "\n",
    "\tstart = 0\n",
    "\tlength = len(string)\n",
    "\n",
    "\tlow = 0\n",
    "\thigh = 0\n",
    "\n",
    "\t# One by one consider every character as center point of \n",
    "\t# even and length palindromes\n",
    "\tfor i in range(1, length):\n",
    "\t\t# Find the longest even length palindrome with center\n",
    "\t# points as i-1 and i.\n",
    "\t\tlow = i - 1\n",
    "\t\thigh = i\n",
    "\t\twhile low >= 0 and high < length and string[low] == string[high]:\n",
    "\t\t\tif high - low + 1 > maxLength:\n",
    "\t\t\t\tstart = low\n",
    "\t\t\t\tmaxLength = high - low + 1\n",
    "\t\t\tlow -= 1\n",
    "\t\t\thigh += 1\n",
    "\n",
    "\t\t# Find the longest odd length palindrome with center \n",
    "\t\t# point as i\n",
    "\t\tlow = i - 1\n",
    "\t\thigh = i + 1\n",
    "\t\twhile low >= 0 and high < length and string[low] == string[high]:\n",
    "\t\t\tif high - low + 1 > maxLength:\n",
    "\t\t\t\tstart = low\n",
    "\t\t\t\tmaxLength = high - low + 1\n",
    "\t\t\tlow -= 1\n",
    "\t\t\thigh += 1\n",
    "\n",
    "\tprint(\"Longest palindrome substring is:{}\".format(string[start:start + maxLength]))\n",
    "\n",
    "\treturn maxLength\n",
    "\n",
    "# Driver program to test above functions\n",
    "string = \"forgeeksskeegfor\"\n",
    "print(\"Length is: \" + str(longestPalSubstr(string)))\n",
    "\n",
    "# This code is contributed by BHAVYA JAIN\n"
   ]
  },
  {
   "cell_type": "code",
   "execution_count": null,
   "metadata": {},
   "outputs": [],
   "source": []
  }
 ],
 "metadata": {
  "kernelspec": {
   "display_name": "Python 3",
   "language": "python",
   "name": "python3"
  },
  "language_info": {
   "codemirror_mode": {
    "name": "ipython",
    "version": 3
   },
   "file_extension": ".py",
   "mimetype": "text/x-python",
   "name": "python",
   "nbconvert_exporter": "python",
   "pygments_lexer": "ipython3",
   "version": "3.7.2"
  }
 },
 "nbformat": 4,
 "nbformat_minor": 2
}
