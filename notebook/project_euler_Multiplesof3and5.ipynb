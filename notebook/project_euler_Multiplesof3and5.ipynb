{
 "cells": [
  {
   "cell_type": "markdown",
   "metadata": {},
   "source": [
    "## Multiples of 3 and 5\n",
    "If we list all the natural numbers below 10 that are multiples of 3 or 5, we get 3, 5, 6 and 9. The sum of these multiples is 23.\n",
    "\n",
    "Find the sum of all the multiples of 3 or 5 below 1000."
   ]
  },
  {
   "cell_type": "code",
   "execution_count": 1,
   "metadata": {},
   "outputs": [],
   "source": [
    "import dask.bag as db\n",
    "from functools import reduce"
   ]
  },
  {
   "cell_type": "code",
   "execution_count": 2,
   "metadata": {},
   "outputs": [],
   "source": [
    "def isdivisible(n):\n",
    "    '''\n",
    "    Filters the numbers divisible by 3 and 5\n",
    "    Params: integer N\n",
    "    '''\n",
    "    assert (n >= 0), \"Argument must be positive integer value\"\n",
    "    return((n % 3 == 0) or (n % 5 == 0))\n",
    "\n",
    "#Creates a dask bag of sequence of integers from 0 to N-1\n",
    "# \n",
    "def calculate_natural_sum(N):\n",
    "    '''\n",
    "    Dask bag implementation\n",
    "    Params: integer N\n",
    "    '''\n",
    "    assert (N >= 0), \"Argument must be positive integer value\"\n",
    "    bag_natural = db.from_sequence(range(N))\n",
    "    total = bag_natural.filter(isdivisible).sum().compute()\n",
    "    return(total)\n",
    "\n",
    "def serial_natural_sum(N):\n",
    "    '''\n",
    "    Serial Implementation\n",
    "    Params: integer N\n",
    "    '''\n",
    "    total = reduce(lambda x, y: x + y, [i for i in range(N) if (i % 3 == 0) or (i % 5 == 0)])\n",
    "    return(total)"
   ]
  },
  {
   "cell_type": "code",
   "execution_count": 3,
   "metadata": {},
   "outputs": [],
   "source": [
    "N = int(input().strip())\n",
    "assert (N >= 0), \"Argument must be positive integer value\""
   ]
  },
  {
   "cell_type": "code",
   "execution_count": 4,
   "metadata": {},
   "outputs": [
    {
     "name": "stdout",
     "output_type": "stream",
     "text": [
      "Sum of Numbers is : 233168\n",
      "CPU times: user 125 ms, sys: 32 ms, total: 157 ms\n",
      "Wall time: 156 ms\n"
     ]
    }
   ],
   "source": [
    "%%time \n",
    "div_sum_parallel = calculate_natural_sum(N)\n",
    "print('Sum of Numbers is : {}'.format(div_sum_parallel))"
   ]
  },
  {
   "cell_type": "code",
   "execution_count": 5,
   "metadata": {},
   "outputs": [
    {
     "name": "stdout",
     "output_type": "stream",
     "text": [
      "Sum of Numbers is : 233168\n",
      "CPU times: user 579 µs, sys: 134 µs, total: 713 µs\n",
      "Wall time: 620 µs\n"
     ]
    }
   ],
   "source": [
    "%%time \n",
    "div_sum_serial = serial_natural_sum(N)\n",
    "print('Sum of Numbers is : {}'.format(div_sum_serial))"
   ]
  },
  {
   "cell_type": "markdown",
   "metadata": {},
   "source": [
    "## Sum square difference\n",
    "The sum of the squares of the first ten natural numbers is,\n",
    "\n",
    " $$ 1^2 + 2^2 + \\cdot + 10^2 = 385 $$\n",
    "The square of the sum of the first ten natural numbers is,\n",
    "\n",
    "$$(1 + 2 + ... + 10)^2 = 55^2 = 3025$$\n",
    "Hence the difference between the sum of the squares of the first ten natural numbers and the square of the sum is $3025 - 385 = 2640$.\n",
    "\n",
    "Find the difference between the sum of the squares of the first one hundred natural numbers and the square of the sum."
   ]
  },
  {
   "cell_type": "code",
   "execution_count": 13,
   "metadata": {},
   "outputs": [],
   "source": [
    "n = int(input().strip())\n",
    "seq = db.from_sequence(range(1, n + 1))"
   ]
  },
  {
   "cell_type": "code",
   "execution_count": 14,
   "metadata": {},
   "outputs": [
    {
     "name": "stdout",
     "output_type": "stream",
     "text": [
      "338350\n"
     ]
    }
   ],
   "source": [
    "squared_sum = seq.map(lambda x: x**2).sum().compute()\n",
    "print(squared_sum)"
   ]
  },
  {
   "cell_type": "code",
   "execution_count": 15,
   "metadata": {},
   "outputs": [
    {
     "name": "stdout",
     "output_type": "stream",
     "text": [
      "25502500\n"
     ]
    }
   ],
   "source": [
    "sum_squared = seq.sum().compute()**2\n",
    "print(sum_squared)"
   ]
  },
  {
   "cell_type": "code",
   "execution_count": 16,
   "metadata": {},
   "outputs": [
    {
     "name": "stdout",
     "output_type": "stream",
     "text": [
      "Hence the difference between the sum of the squares of the first ten natural numbers and the square of the sum is 25164150\n"
     ]
    }
   ],
   "source": [
    "diff_sum_squared = sum_squared - squared_sum\n",
    "print('Hence the difference between the sum of the squares of the first ten natural numbers and the square of the sum is {}'.format(diff_sum_squared))"
   ]
  },
  {
   "cell_type": "code",
   "execution_count": null,
   "metadata": {},
   "outputs": [],
   "source": []
  }
 ],
 "metadata": {
  "kernelspec": {
   "display_name": "Python 3",
   "language": "python",
   "name": "python3"
  },
  "language_info": {
   "codemirror_mode": {
    "name": "ipython",
    "version": 3
   },
   "file_extension": ".py",
   "mimetype": "text/x-python",
   "name": "python",
   "nbconvert_exporter": "python",
   "pygments_lexer": "ipython3",
   "version": "3.6.5"
  }
 },
 "nbformat": 4,
 "nbformat_minor": 2
}
